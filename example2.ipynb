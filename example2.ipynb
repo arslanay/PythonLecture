{
 "cells": [
  {
   "attachments": {},
   "cell_type": "markdown",
   "id": "898da902",
   "metadata": {},
   "source": [
    "### Generalization of processes - example 2"
   ]
  },
  {
   "cell_type": "code",
   "execution_count": 1,
   "id": "e7230075-aabb-4dc4-86f8-9c4134801ffc",
   "metadata": {},
   "outputs": [
    {
     "data": {
      "text/plain": [
       "[1, 2, 3]"
      ]
     },
     "execution_count": 1,
     "metadata": {},
     "output_type": "execute_result"
    }
   ],
   "source": [
    "def get_positives(lst):\n",
    "    \"\"\"Filters out the negative values and zero from list 'lst'. \n",
    "    >>> get_positives([1, 0, -2, -1, 2,-3, 3])\n",
    "    [1,2,3]\n",
    "    \"\"\"\n",
    "    out = []\n",
    "    for item in lst:\n",
    "        if item > 0:\n",
    "            out.append(item)\n",
    "    return out\n",
    "\n",
    "positives_output = get_positives([1, 0, -2, -1, 2,-3, 3])\n",
    "assert (positives_output == [1,2,3]),f\"expected [1,2,3] , got {positives_output}\"\n",
    "positives_output"
   ]
  },
  {
   "cell_type": "code",
   "execution_count": 4,
   "id": "e4432d6d",
   "metadata": {},
   "outputs": [
    {
     "data": {
      "text/plain": [
       "[2, 4, 6]"
      ]
     },
     "execution_count": 4,
     "metadata": {},
     "output_type": "execute_result"
    }
   ],
   "source": [
    "def get_evens(lst):\n",
    "    \"\"\"Filters out the odd values from list 'lst'.\n",
    "    >>> get_evens([1,2,3,4,5,6])\n",
    "    [2,4,6]\n",
    "    \"\"\"\n",
    "    out = []\n",
    "    for item in lst:\n",
    "        if item % 2 == 0:\n",
    "            out.append(item)\n",
    "    return out\n",
    "\n",
    "evens_output = get_evens([1,2,3,4,5,6])\n",
    "assert (evens_output == [2,4,6]),f\"expected [2,4,6] , got {evens_output}\"\n",
    "evens_output"
   ]
  },
  {
   "cell_type": "code",
   "execution_count": 6,
   "id": "88c8eb9e",
   "metadata": {},
   "outputs": [
    {
     "data": {
      "text/plain": [
       "['Python', 'much']"
      ]
     },
     "execution_count": 6,
     "metadata": {},
     "output_type": "execute_result"
    }
   ],
   "source": [
    "def get_longer(lst, n):\n",
    "    \"\"\"Filters out the words shorter than 'n' characters from list 'lst'.\n",
    "    >>> get_longer(['Python','IS','so', 'much','FUn'],4)\n",
    "    ['Python','much']\n",
    "    \"\"\"\n",
    "    out = []\n",
    "    for item in lst:\n",
    "        if len(item) >= n:\n",
    "            out.append(item)\n",
    "    return out\n",
    "\n",
    "longer_output = get_longer(['Python','IS','so', 'much','FUn'], 4)\n",
    "assert (longer_output == ['Python','much']),f\"expected ['Python','much'] , got {longer_output}\"\n",
    "longer_output"
   ]
  }
 ],
 "metadata": {
  "kernelspec": {
   "display_name": "Python 3 (ipykernel)",
   "language": "python",
   "name": "python3"
  },
  "language_info": {
   "codemirror_mode": {
    "name": "ipython",
    "version": 3
   },
   "file_extension": ".py",
   "mimetype": "text/x-python",
   "name": "python",
   "nbconvert_exporter": "python",
   "pygments_lexer": "ipython3",
   "version": "3.7.4"
  }
 },
 "nbformat": 4,
 "nbformat_minor": 5
}
