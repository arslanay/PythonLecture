{
 "cells": [
  {
   "attachments": {},
   "cell_type": "markdown",
   "id": "898da902",
   "metadata": {},
   "source": [
    "### Generalization of processes - example1"
   ]
  },
  {
   "cell_type": "code",
   "execution_count": 2,
   "id": "e7230075-aabb-4dc4-86f8-9c4134801ffc",
   "metadata": {},
   "outputs": [
    {
     "data": {
      "text/plain": [
       "[11, 12, 13]"
      ]
     },
     "execution_count": 2,
     "metadata": {},
     "output_type": "execute_result"
    }
   ],
   "source": [
    "def add_to_all (lst, val):\n",
    "    \"\"\"Adds 'val' to each numeric value in list 'lst'. \n",
    "       Does not change the 'lst' argument, returns a copy of the modified list. \n",
    "    >>> add_to_all([1,2,3],10)\n",
    "    [11,12,13]\n",
    "    \"\"\"\n",
    "    out = []\n",
    "    for item in lst:\n",
    "        out.append(item + val)\n",
    "    return out\n",
    "\n",
    "add_output = add_to_all([1,2,3],10)\n",
    "assert (add_output == [11,12,13]),f\"expected [11,12,13] , got {add_output}\"\n",
    "add_output"
   ]
  },
  {
   "cell_type": "code",
   "execution_count": 3,
   "id": "e4432d6d",
   "metadata": {},
   "outputs": [
    {
     "data": {
      "text/plain": [
       "['python', 'is', 'fun']"
      ]
     },
     "execution_count": 3,
     "metadata": {},
     "output_type": "execute_result"
    }
   ],
   "source": [
    "def lower_all (lst):\n",
    "    \"\"\"Converts each string in list 'lst' to lowercase. \n",
    "       Does not change the 'lst' argument, returns a copy of the modified list. \n",
    "    >>> lower_all(['Python','IS','FUn'])\n",
    "    ['python','is','fun']\n",
    "    \"\"\"\n",
    "    out = []\n",
    "    for item in lst:\n",
    "        out.append(str.lower(item))\n",
    "    return out\n",
    "\n",
    "lower_output = lower_all(['Python','IS','FUn'])\n",
    "assert (lower_output == ['python','is','fun']),f\"expected ['python','is','fun'] , got {lower_output}\"\n",
    "lower_output"
   ]
  },
  {
   "cell_type": "code",
   "execution_count": 4,
   "id": "88c8eb9e",
   "metadata": {},
   "outputs": [
    {
     "data": {
      "text/plain": [
       "[6, 2, 3]"
      ]
     },
     "execution_count": 4,
     "metadata": {},
     "output_type": "execute_result"
    }
   ],
   "source": [
    "def length_of_all (lst):\n",
    "    \"\"\"Calculates the length of each string in list 'lst', and returns all lengths as a list. \n",
    "       Does not change the 'lst' argument, returns a copy of the modified list. \n",
    "    >>> length_of_all(['Python','IS','FUn'])\n",
    "    [6,2,3]\n",
    "    \"\"\"\n",
    "    out = []\n",
    "    for item in lst:\n",
    "        out.append(len(item))\n",
    "    return out\n",
    "\n",
    "length_output = length_of_all(['Python','IS','FUn'])\n",
    "assert (length_output == [6,2,3]),f\"expected [6,2,3] , got {length_output}\"\n",
    "length_output"
   ]
  }
 ],
 "metadata": {
  "kernelspec": {
   "display_name": "Python 3 (ipykernel)",
   "language": "python",
   "name": "python3"
  },
  "language_info": {
   "codemirror_mode": {
    "name": "ipython",
    "version": 3
   },
   "file_extension": ".py",
   "mimetype": "text/x-python",
   "name": "python",
   "nbconvert_exporter": "python",
   "pygments_lexer": "ipython3",
   "version": "3.7.4"
  }
 },
 "nbformat": 4,
 "nbformat_minor": 5
}
