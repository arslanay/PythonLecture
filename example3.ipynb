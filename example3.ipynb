{
 "cells": [
  {
   "attachments": {},
   "cell_type": "markdown",
   "id": "898da902",
   "metadata": {},
   "source": [
    "### Generalization of processes - example 3"
   ]
  },
  {
   "cell_type": "code",
   "execution_count": 1,
   "id": "e7230075-aabb-4dc4-86f8-9c4134801ffc",
   "metadata": {},
   "outputs": [
    {
     "data": {
      "text/plain": [
       "6"
      ]
     },
     "execution_count": 1,
     "metadata": {},
     "output_type": "execute_result"
    }
   ],
   "source": [
    "def sum_list(lst):\n",
    "    \"\"\"Sums all values in a list. \n",
    "    >>> sum_list([1, 0, 4, -2, -1, 2,-3, 3, 2])\n",
    "    6  \n",
    "    \"\"\"\n",
    "    if len(lst) == 0:\n",
    "        return None\n",
    "    base = lst[0]\n",
    "    for item in lst[1:]:\n",
    "        base += item\n",
    "    return base\n",
    "\n",
    "sum_output = sum_list([1, 0, 4, -2, -1, 2,-3, 3, 2])\n",
    "assert (sum_output == 6),f\"expected 6 , got {sum_output}\"\n",
    "sum_output"
   ]
  },
  {
   "cell_type": "code",
   "execution_count": 2,
   "id": "e4432d6d",
   "metadata": {},
   "outputs": [
    {
     "data": {
      "text/plain": [
       "4"
      ]
     },
     "execution_count": 2,
     "metadata": {},
     "output_type": "execute_result"
    }
   ],
   "source": [
    "def max_of_list (lst):\n",
    "    \"\"\"Returns the maximum value from list 'lst'. \n",
    "    >>> max_of_list([1, 0, 4, -2, -1, 2,-3, 3, 2])\n",
    "    4  \n",
    "    \"\"\"\n",
    "    if len(lst) == 0:\n",
    "        return None\n",
    "    base = lst[0]\n",
    "    for item in lst[1:]:\n",
    "        base = max(base,item)\n",
    "    return base\n",
    "\n",
    "max_output = max_of_list([1, 0, 4, -2, -1, 2,-3, 3, 2])\n",
    "assert (max_output == 4),f\"expected 4 , got {max_output}\"\n",
    "max_output"
   ]
  },
  {
   "cell_type": "code",
   "execution_count": 3,
   "id": "88c8eb9e",
   "metadata": {},
   "outputs": [
    {
     "data": {
      "text/plain": [
       "'Python'"
      ]
     },
     "execution_count": 3,
     "metadata": {},
     "output_type": "execute_result"
    }
   ],
   "source": [
    "def longest(lst):\n",
    "    \"\"\"Returns the longest (leftmost) value from list 'lst'. \n",
    "    >>> longest(['Python','is','so','much','fun'])\n",
    "    'Python'  \n",
    "    \"\"\"\n",
    "    def longer(l1,l2):\n",
    "        \"\"\"Returns the longer of the two given lists. \"\"\"\n",
    "        if len(l1)>len(l2):\n",
    "            return l1\n",
    "        else:\n",
    "            return l2\n",
    "\n",
    "    if len(lst) == 0:\n",
    "        return None\n",
    "    base = lst[0]\n",
    "    for item in lst[1:]:\n",
    "        base = longer(base,item)\n",
    "    return base\n",
    "\n",
    "longest_output = longest(['Python','is','so','much','fun'])\n",
    "assert (longest_output == 'Python'),f\"expected 'Python', got {longest_output}\"\n",
    "longest_output"
   ]
  }
 ],
 "metadata": {
  "kernelspec": {
   "display_name": "Python 3 (ipykernel)",
   "language": "python",
   "name": "python3"
  },
  "language_info": {
   "codemirror_mode": {
    "name": "ipython",
    "version": 3
   },
   "file_extension": ".py",
   "mimetype": "text/x-python",
   "name": "python",
   "nbconvert_exporter": "python",
   "pygments_lexer": "ipython3",
   "version": "3.7.4"
  }
 },
 "nbformat": 4,
 "nbformat_minor": 5
}
